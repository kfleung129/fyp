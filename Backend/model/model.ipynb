{
 "cells": [
  {
   "cell_type": "code",
   "execution_count": 16,
   "id": "6df0330f",
   "metadata": {
    "scrolled": false
   },
   "outputs": [],
   "source": [
    "#environment settings\n",
    "#!pip install tensorflow keras"
   ]
  },
  {
   "cell_type": "code",
   "execution_count": 17,
   "id": "latin-character",
   "metadata": {
    "ExecuteTime": {
     "end_time": "2023-09-21T11:20:54.389829Z",
     "start_time": "2023-09-21T11:20:49.722013Z"
    }
   },
   "outputs": [],
   "source": [
    "import math\n",
    "import matplotlib.pyplot as plt\n",
    "import pandas as pd\n",
    "import numpy as np\n",
    "import yfinance as yf\n",
    "from keras.models import Sequential\n",
    "from keras.layers import Dense\n",
    "from keras.layers import LSTM\n",
    "from keras.layers import Dropout\n",
    "from keras.layers import Input\n",
    "from keras.layers import *\n",
    "from sklearn.preprocessing import MinMaxScaler\n",
    "from sklearn.metrics import mean_squared_error\n",
    "from sklearn.metrics import mean_absolute_error\n",
    "from sklearn.model_selection import train_test_split\n",
    "from keras.callbacks import EarlyStopping\n",
    "import tensorflow as tf\n",
    "import tensorflowjs as tfjs"
   ]
  },
  {
   "cell_type": "code",
   "execution_count": 18,
   "id": "plastic-liechtenstein",
   "metadata": {
    "ExecuteTime": {
     "end_time": "2023-09-21T11:20:54.396478Z",
     "start_time": "2023-09-21T11:20:54.392906Z"
    }
   },
   "outputs": [],
   "source": [
    "#common variables\n",
    "sc = MinMaxScaler(feature_range=(0,1))"
   ]
  },
  {
   "cell_type": "code",
   "execution_count": 19,
   "id": "aea92246",
   "metadata": {
    "ExecuteTime": {
     "end_time": "2023-09-21T11:20:55.451994Z",
     "start_time": "2023-09-21T11:20:55.438161Z"
    }
   },
   "outputs": [],
   "source": [
    "#common functions\n",
    "def load_dataframe(**kwargs):\n",
    "    stock_name = kwargs[\"stock_name\"]\n",
    "    start_year = kwargs[\"start_year\"]\n",
    "    end_year = kwargs[\"end_year\"]\n",
    "    df = yf.download(stock_name, start=f'{start_year}-01-01', end=f'{end_year}-01-01')\n",
    "    #df = pd.read_csv(f'./stocks/{name}.csv') # Default load local csv file\n",
    "    return df\n",
    "    \n",
    "def get_X_train(**kwargs):\n",
    "    df = kwargs['df']\n",
    "    start_index = kwargs['start_index']\n",
    "    end_index = kwargs['end_index']\n",
    "    day_before = kwargs[\"day_before\"]\n",
    "    X_train = df.iloc[start_index:end_index, 0:1].values\n",
    "    X_train = sc.fit_transform(X_train)\n",
    "    X_train = [X_train[i-day_before:i, 0] for i in range(day_before, len(X_train))]\n",
    "    X_train = np.array(X_train)\n",
    "    X_train = np.reshape(X_train, (X_train.shape[0], X_train.shape[1], 1))\n",
    "    return X_train\n",
    "\n",
    "def get_y_train(**kwargs):\n",
    "    df = kwargs['df']\n",
    "    start_index = kwargs['start_index']\n",
    "    end_index = kwargs['end_index']\n",
    "    day_before = kwargs['day_before']\n",
    "    y_train = df.iloc[start_index:end_index, 1:2].values\n",
    "    y_train = sc.fit_transform(y_train)[0+day_before:end_index]\n",
    "    return y_train\n",
    "\n",
    "def save_model(**kwargs):\n",
    "    model = kwargs[\"model\"]\n",
    "    dir = kwargs[\"dir\"]\n",
    "    tfjs.converters.save_keras_model(model, dir)    \n",
    "    \n",
    "def get_X_test():\n",
    "    return 1\n",
    "def get_y_test():\n",
    "    return 1"
   ]
  },
  {
   "cell_type": "code",
   "execution_count": 20,
   "id": "b89d9dbf",
   "metadata": {
    "ExecuteTime": {
     "end_time": "2023-09-21T11:20:55.470863Z",
     "start_time": "2023-09-21T11:20:55.454165Z"
    }
   },
   "outputs": [
    {
     "name": "stdout",
     "output_type": "stream",
     "text": [
      "[*********************100%%**********************]  1 of 1 completed\n",
      "Number of rows and columns: (5036, 6)\n"
     ]
    }
   ],
   "source": [
    "#init\n",
    "stock_name = \"AMD\"\n",
    "start_year = 2002\n",
    "end_year = 2022\n",
    "df = load_dataframe(stock_name=stock_name, start_year=start_year, end_year=end_year)\n",
    "print(\"Number of rows and columns:\", df.shape)\n",
    "#df.head(5)\n",
    "start_index = 0\n",
    "end_index = round(len(df)*0.8)\n",
    "day_before = 60"
   ]
  },
  {
   "cell_type": "code",
   "execution_count": 21,
   "id": "domestic-arlington",
   "metadata": {
    "ExecuteTime": {
     "end_time": "2023-09-21T11:20:55.889871Z",
     "start_time": "2023-09-21T11:20:55.877935Z"
    }
   },
   "outputs": [
    {
     "name": "stdout",
     "output_type": "stream",
     "text": [
      "(3969, 60, 1)\n",
      "(3969, 1)\n"
     ]
    }
   ],
   "source": [
    "X_train = get_X_train(df=df, start_index=start_index, end_index=end_index, day_before=day_before)\n",
    "y_train = get_y_train(df=df, start_index=start_index, end_index=end_index, day_before=day_before)\n",
    "print(X_train.shape)\n",
    "print(y_train.shape)"
   ]
  },
  {
   "cell_type": "code",
   "execution_count": 22,
   "id": "ce8b901a",
   "metadata": {},
   "outputs": [
    {
     "data": {
      "text/plain": [
       "(3969, 60, 1)"
      ]
     },
     "execution_count": 22,
     "metadata": {},
     "output_type": "execute_result"
    }
   ],
   "source": [
    "(X_train.shape[0], X_train.shape[1], 1)"
   ]
  },
  {
   "cell_type": "code",
   "execution_count": 23,
   "id": "dramatic-louisville",
   "metadata": {
    "ExecuteTime": {
     "end_time": "2023-09-21T11:20:55.905213Z",
     "start_time": "2023-09-21T11:20:55.892601Z"
    }
   },
   "outputs": [],
   "source": [
    "#splitin train set & train set\n",
    "training_set = df.iloc[:800, 1:2].values\n",
    "test_set = df.iloc[800:, 1:2].values\n",
    "\n",
    "sc = MinMaxScaler(feature_range = (0, 1))"
   ]
  },
  {
   "cell_type": "code",
   "execution_count": 24,
   "id": "foreign-antenna",
   "metadata": {
    "ExecuteTime": {
     "end_time": "2023-09-21T11:20:55.929907Z",
     "start_time": "2023-09-21T11:20:55.907748Z"
    }
   },
   "outputs": [
    {
     "name": "stdout",
     "output_type": "stream",
     "text": [
      "X_train shape: (740, 60, 1)\n",
      "y_train shape: (740,)\n"
     ]
    }
   ],
   "source": [
    "# Feature Scaling\n",
    "training_set_scaled = sc.fit_transform(training_set)\n",
    "# Creating a data structure with 60 time-steps and 1 output\n",
    "X_train = []\n",
    "y_train = []\n",
    "for i in range(60, 800):\n",
    "    X_train.append(training_set_scaled[i-60:i, 0])\n",
    "    y_train.append(training_set_scaled[i, 0])\n",
    "X_train, y_train = np.array(X_train), np.array(y_train)\n",
    "X_train = np.reshape(X_train, (X_train.shape[0], X_train.shape[1], 1))\n",
    "#(740, 60, 1)\n",
    "print(\"X_train shape:\", X_train.shape)\n",
    "print(\"y_train shape:\", y_train.shape)"
   ]
  },
  {
   "cell_type": "code",
   "execution_count": 25,
   "id": "czech-incentive",
   "metadata": {
    "ExecuteTime": {
     "end_time": "2023-09-21T11:49:10.436403Z",
     "start_time": "2023-09-21T11:20:55.933679Z"
    }
   },
   "outputs": [
    {
     "name": "stdout",
     "output_type": "stream",
     "text": [
      "Epoch 1/100\n",
      "24/24 [==============================] - 7s 92ms/step - loss: 0.0372\n",
      "Epoch 2/100\n",
      "24/24 [==============================] - 2s 94ms/step - loss: 0.0111\n",
      "Epoch 3/100\n",
      "24/24 [==============================] - 2s 89ms/step - loss: 0.0094\n",
      "Epoch 4/100\n",
      "24/24 [==============================] - 2s 89ms/step - loss: 0.0091\n",
      "Epoch 5/100\n",
      "24/24 [==============================] - 2s 90ms/step - loss: 0.0077\n",
      "Epoch 6/100\n",
      "24/24 [==============================] - 2s 104ms/step - loss: 0.0078\n",
      "Epoch 7/100\n",
      "24/24 [==============================] - 2s 97ms/step - loss: 0.0084\n",
      "Epoch 8/100\n",
      "24/24 [==============================] - 2s 97ms/step - loss: 0.0070\n",
      "Epoch 9/100\n",
      "24/24 [==============================] - 2s 96ms/step - loss: 0.0053\n",
      "Epoch 10/100\n",
      "24/24 [==============================] - 2s 90ms/step - loss: 0.0058\n",
      "Epoch 11/100\n",
      "24/24 [==============================] - 2s 89ms/step - loss: 0.0053\n",
      "Epoch 12/100\n",
      "24/24 [==============================] - 2s 89ms/step - loss: 0.0053\n",
      "Epoch 13/100\n",
      "24/24 [==============================] - 2s 87ms/step - loss: 0.0049\n",
      "Epoch 14/100\n",
      "24/24 [==============================] - 2s 85ms/step - loss: 0.0054\n",
      "Epoch 15/100\n",
      "24/24 [==============================] - 2s 85ms/step - loss: 0.0045\n",
      "Epoch 16/100\n",
      "24/24 [==============================] - 2s 93ms/step - loss: 0.0046\n",
      "Epoch 17/100\n",
      "24/24 [==============================] - 2s 91ms/step - loss: 0.0051\n",
      "Epoch 18/100\n",
      "24/24 [==============================] - 2s 94ms/step - loss: 0.0048\n",
      "Epoch 19/100\n",
      "24/24 [==============================] - 2s 99ms/step - loss: 0.0046\n",
      "Epoch 20/100\n",
      "24/24 [==============================] - 2s 91ms/step - loss: 0.0040\n",
      "Epoch 21/100\n",
      "24/24 [==============================] - 2s 92ms/step - loss: 0.0044\n",
      "Epoch 22/100\n",
      "24/24 [==============================] - 2s 83ms/step - loss: 0.0040\n",
      "Epoch 23/100\n",
      "24/24 [==============================] - 2s 83ms/step - loss: 0.0041\n",
      "Epoch 24/100\n",
      "24/24 [==============================] - 2s 97ms/step - loss: 0.0040\n",
      "Epoch 25/100\n",
      "24/24 [==============================] - 2s 89ms/step - loss: 0.0039\n",
      "Epoch 26/100\n",
      "24/24 [==============================] - 2s 85ms/step - loss: 0.0037\n",
      "Epoch 27/100\n",
      "24/24 [==============================] - 2s 83ms/step - loss: 0.0039\n",
      "Epoch 28/100\n",
      "24/24 [==============================] - 2s 89ms/step - loss: 0.0037\n",
      "Epoch 29/100\n",
      "24/24 [==============================] - 2s 85ms/step - loss: 0.0038\n",
      "Epoch 30/100\n",
      "24/24 [==============================] - 2s 85ms/step - loss: 0.0040\n",
      "Epoch 31/100\n",
      "24/24 [==============================] - 2s 91ms/step - loss: 0.0038\n",
      "Epoch 32/100\n",
      "24/24 [==============================] - 2s 93ms/step - loss: 0.0053\n",
      "Epoch 33/100\n",
      "24/24 [==============================] - 2s 100ms/step - loss: 0.0044\n",
      "Epoch 34/100\n",
      "24/24 [==============================] - 2s 95ms/step - loss: 0.0035\n",
      "Epoch 35/100\n",
      "24/24 [==============================] - 2s 98ms/step - loss: 0.0031\n",
      "Epoch 36/100\n",
      "24/24 [==============================] - 2s 90ms/step - loss: 0.0032\n",
      "Epoch 37/100\n",
      "24/24 [==============================] - 2s 89ms/step - loss: 0.0037\n",
      "Epoch 38/100\n",
      "24/24 [==============================] - 2s 87ms/step - loss: 0.0037\n",
      "Epoch 39/100\n",
      "24/24 [==============================] - 2s 88ms/step - loss: 0.0031\n",
      "Epoch 40/100\n",
      "24/24 [==============================] - 2s 91ms/step - loss: 0.0028\n",
      "Epoch 41/100\n",
      "24/24 [==============================] - 2s 94ms/step - loss: 0.0034\n",
      "Epoch 42/100\n",
      "24/24 [==============================] - 2s 99ms/step - loss: 0.0033\n",
      "Epoch 43/100\n",
      "24/24 [==============================] - 2s 98ms/step - loss: 0.0031\n",
      "Epoch 44/100\n",
      "24/24 [==============================] - 2s 98ms/step - loss: 0.0029\n",
      "Epoch 45/100\n",
      "24/24 [==============================] - 3s 112ms/step - loss: 0.0031\n",
      "Epoch 46/100\n",
      "24/24 [==============================] - 3s 110ms/step - loss: 0.0027\n",
      "Epoch 47/100\n",
      "24/24 [==============================] - 2s 94ms/step - loss: 0.0027\n",
      "Epoch 48/100\n",
      "24/24 [==============================] - 2s 94ms/step - loss: 0.0031\n",
      "Epoch 49/100\n",
      "24/24 [==============================] - 2s 94ms/step - loss: 0.0027\n",
      "Epoch 50/100\n",
      "24/24 [==============================] - 2s 98ms/step - loss: 0.0027\n",
      "Epoch 51/100\n",
      "24/24 [==============================] - 2s 88ms/step - loss: 0.0026\n",
      "Epoch 52/100\n",
      "24/24 [==============================] - 2s 87ms/step - loss: 0.0029\n",
      "Epoch 53/100\n",
      "24/24 [==============================] - 2s 99ms/step - loss: 0.0029\n",
      "Epoch 54/100\n",
      "24/24 [==============================] - 2s 95ms/step - loss: 0.0024\n",
      "Epoch 55/100\n",
      "24/24 [==============================] - 3s 108ms/step - loss: 0.0024\n",
      "Epoch 56/100\n",
      "24/24 [==============================] - 2s 89ms/step - loss: 0.0028\n",
      "Epoch 57/100\n",
      "24/24 [==============================] - 2s 83ms/step - loss: 0.0023\n",
      "Epoch 58/100\n",
      "24/24 [==============================] - 2s 83ms/step - loss: 0.0023\n",
      "Epoch 59/100\n",
      "24/24 [==============================] - 2s 85ms/step - loss: 0.0025\n",
      "Epoch 60/100\n",
      "24/24 [==============================] - 2s 82ms/step - loss: 0.0025\n",
      "Epoch 61/100\n",
      "24/24 [==============================] - 2s 85ms/step - loss: 0.0024\n",
      "Epoch 62/100\n",
      "24/24 [==============================] - 2s 94ms/step - loss: 0.0026\n",
      "Epoch 63/100\n",
      "24/24 [==============================] - 2s 87ms/step - loss: 0.0024\n",
      "Epoch 64/100\n",
      "24/24 [==============================] - 2s 92ms/step - loss: 0.0023\n",
      "Epoch 65/100\n",
      "24/24 [==============================] - 2s 87ms/step - loss: 0.0022\n",
      "Epoch 66/100\n",
      "24/24 [==============================] - 2s 87ms/step - loss: 0.0024\n",
      "Epoch 67/100\n",
      "24/24 [==============================] - 2s 92ms/step - loss: 0.0021\n",
      "Epoch 68/100\n",
      "24/24 [==============================] - 2s 88ms/step - loss: 0.0023\n",
      "Epoch 69/100\n",
      "24/24 [==============================] - 2s 93ms/step - loss: 0.0024\n",
      "Epoch 70/100\n",
      "24/24 [==============================] - 2s 84ms/step - loss: 0.0019\n",
      "Epoch 71/100\n",
      "24/24 [==============================] - 2s 90ms/step - loss: 0.0020\n",
      "Epoch 72/100\n",
      "24/24 [==============================] - 2s 91ms/step - loss: 0.0020\n",
      "Epoch 73/100\n",
      "24/24 [==============================] - 2s 87ms/step - loss: 0.0020\n",
      "Epoch 74/100\n",
      "24/24 [==============================] - 2s 91ms/step - loss: 0.0019\n",
      "Epoch 75/100\n",
      "24/24 [==============================] - 2s 86ms/step - loss: 0.0021\n",
      "Epoch 76/100\n",
      "24/24 [==============================] - 2s 86ms/step - loss: 0.0024\n",
      "Epoch 77/100\n",
      "24/24 [==============================] - 2s 88ms/step - loss: 0.0021\n",
      "Epoch 78/100\n",
      "24/24 [==============================] - 2s 89ms/step - loss: 0.0021\n",
      "Epoch 79/100\n",
      "24/24 [==============================] - 2s 84ms/step - loss: 0.0021\n",
      "Epoch 80/100\n",
      "24/24 [==============================] - 2s 90ms/step - loss: 0.0020\n",
      "Epoch 81/100\n",
      "24/24 [==============================] - 2s 100ms/step - loss: 0.0020\n",
      "Epoch 82/100\n",
      "24/24 [==============================] - 2s 84ms/step - loss: 0.0018\n",
      "Epoch 83/100\n",
      "24/24 [==============================] - 2s 83ms/step - loss: 0.0020\n",
      "Epoch 84/100\n",
      "24/24 [==============================] - 2s 87ms/step - loss: 0.0023\n",
      "Epoch 85/100\n",
      "24/24 [==============================] - 2s 84ms/step - loss: 0.0019\n",
      "Epoch 86/100\n",
      "24/24 [==============================] - 2s 83ms/step - loss: 0.0019\n",
      "Epoch 87/100\n",
      "24/24 [==============================] - 2s 84ms/step - loss: 0.0018\n",
      "Epoch 88/100\n",
      "24/24 [==============================] - 2s 100ms/step - loss: 0.0018\n",
      "Epoch 89/100\n",
      "24/24 [==============================] - 2s 89ms/step - loss: 0.0019\n",
      "Epoch 90/100\n",
      "24/24 [==============================] - 2s 93ms/step - loss: 0.0020\n",
      "Epoch 91/100\n",
      "24/24 [==============================] - 2s 91ms/step - loss: 0.0019\n",
      "Epoch 92/100\n",
      "24/24 [==============================] - 2s 92ms/step - loss: 0.0016\n",
      "Epoch 93/100\n",
      "24/24 [==============================] - 2s 95ms/step - loss: 0.0018\n",
      "Epoch 94/100\n",
      "24/24 [==============================] - 2s 90ms/step - loss: 0.0017\n",
      "Epoch 95/100\n",
      "24/24 [==============================] - 2s 91ms/step - loss: 0.0017\n",
      "Epoch 96/100\n",
      "24/24 [==============================] - 2s 90ms/step - loss: 0.0018\n",
      "Epoch 97/100\n",
      "24/24 [==============================] - 2s 90ms/step - loss: 0.0018\n",
      "Epoch 98/100\n",
      "24/24 [==============================] - 2s 92ms/step - loss: 0.0015\n",
      "Epoch 99/100\n",
      "24/24 [==============================] - 2s 91ms/step - loss: 0.0015\n",
      "Epoch 100/100\n",
      "24/24 [==============================] - 2s 90ms/step - loss: 0.0021\n"
     ]
    },
    {
     "data": {
      "text/plain": [
       "<keras.callbacks.History at 0x1d722af3730>"
      ]
     },
     "execution_count": 25,
     "metadata": {},
     "output_type": "execute_result"
    }
   ],
   "source": [
    "#numpy version require 1.19.5 \n",
    "#!pip install numpy==1.19.5\n",
    "model = Sequential()\n",
    "#Adding the first LSTM layer and some Dropout regularisation\n",
    "model.add(LSTM(units = 50, return_sequences = True, input_shape = (X_train.shape[1], 1)))\n",
    "model.add(Dropout(0.2))\n",
    "# Adding a second LSTM layer and some Dropout regularisation\n",
    "model.add(LSTM(units = 50, return_sequences = True))\n",
    "model.add(Dropout(0.2))\n",
    "# Adding a third LSTM layer and some Dropout regularisation\n",
    "model.add(LSTM(units = 50, return_sequences = True))\n",
    "model.add(Dropout(0.2))\n",
    "# Adding a fourth LSTM layer and some Dropout regularisation\n",
    "model.add(LSTM(units = 50))\n",
    "model.add(Dropout(0.2))\n",
    "# Adding the output layer\n",
    "model.add(Dense(units = 1))\n",
    "\n",
    "# Compiling the RNN\n",
    "model.compile(optimizer = 'adam', loss = 'mean_squared_error')\n",
    "\n",
    "# Fitting the RNN to the Training set\n",
    "model.fit(X_train, y_train, epochs = 100, batch_size = 32)"
   ]
  },
  {
   "cell_type": "code",
   "execution_count": 26,
   "id": "martial-dinner",
   "metadata": {
    "ExecuteTime": {
     "end_time": "2023-09-21T12:01:07.715832Z",
     "start_time": "2023-09-21T12:01:07.484334Z"
    }
   },
   "outputs": [],
   "source": [
    "# Getting the predicted stock price of 2017\n",
    "dataset_train = df.iloc[:800, 0:1]\n",
    "dataset_test = df.iloc[end_index:, 0:1]\n",
    "dataset_total = pd.concat((dataset_train, dataset_test), axis = 0)\n",
    "inputs = dataset_total[len(dataset_total) - len(dataset_test) - 60:].values\n",
    "inputs = inputs.reshape(-1,1)\n",
    "inputs = sc.transform(inputs)\n",
    "X_test = []\n",
    "for i in range(60, 519):\n",
    "    X_test.append(inputs[i-60:i, 0])\n",
    "#X_test = np.reshape(X_test, (X_test.shape[0], X_test.shape[1], 1))\n",
    "# (459, 60, 1)"
   ]
  },
  {
   "cell_type": "code",
   "execution_count": 27,
   "id": "91dfbc8d",
   "metadata": {},
   "outputs": [
    {
     "data": {
      "text/plain": [
       "(947, 60, 1)"
      ]
     },
     "execution_count": 27,
     "metadata": {},
     "output_type": "execute_result"
    }
   ],
   "source": [
    "X_tmp = get_X_train(df=df, start_index=end_index, end_index=len(df), day_before=60)\n",
    "X_tmp.shape"
   ]
  },
  {
   "cell_type": "code",
   "execution_count": 28,
   "id": "4eb9a8e5",
   "metadata": {
    "ExecuteTime": {
     "end_time": "2023-09-21T11:49:10.974119Z",
     "start_time": "2023-09-21T11:20:49.677Z"
    }
   },
   "outputs": [
    {
     "name": "stdout",
     "output_type": "stream",
     "text": [
      "30/30 [==============================] - 2s 25ms/step\n"
     ]
    },
    {
     "data": {
      "text/plain": [
       "(947, 1)"
      ]
     },
     "execution_count": 28,
     "metadata": {},
     "output_type": "execute_result"
    }
   ],
   "source": [
    "predicted_stock_price = model.predict(X_tmp)\n",
    "predicted_stock_price = sc.inverse_transform(predicted_stock_price)\n",
    "predicted_stock_price.shape"
   ]
  },
  {
   "cell_type": "code",
   "execution_count": 29,
   "id": "0aa05a10",
   "metadata": {
    "ExecuteTime": {
     "end_time": "2023-09-21T11:49:10.975186Z",
     "start_time": "2023-09-21T11:20:49.678Z"
    }
   },
   "outputs": [
    {
     "data": {
      "image/png": "[encoded data removed]",
      "text/plain": [
       "<Figure size 1000x600 with 1 Axes>"
      ]
     },
     "metadata": {},
     "output_type": "display_data"
    }
   ],
   "source": [
    "# Visualising the results\n",
    "plt.figure(figsize=(10,6))\n",
    "plt.plot(df.index.values[end_index:len(df)-60], dataset_test[0:len(dataset_test)-60].values, color = \"red\", label = f'Real {stock_name} Stock Price')\n",
    "plt.plot(df.index.values[end_index:len(df)-60], predicted_stock_price, color = \"blue\", label = f'Predicted {stock_name} Stock Price')\n",
    "#plt.xticks(np.arange(0,459,100))\n",
    "plt.title(f'{stock_name} Stock Price Prediction')\n",
    "plt.xlabel('Time')\n",
    "plt.ylabel(f'{stock_name} Stock Price')\n",
    "plt.legend()\n",
    "plt.show()"
   ]
  },
  {
   "cell_type": "code",
   "execution_count": 30,
   "id": "86884cf9",
   "metadata": {},
   "outputs": [],
   "source": [
    "save_model(model=model, dir=\"./model/\")"
   ]
  },
  {
   "cell_type": "code",
   "execution_count": 31,
   "id": "dc246d14",
   "metadata": {
    "ExecuteTime": {
     "end_time": "2023-09-21T11:49:10.978091Z",
     "start_time": "2023-09-21T11:20:49.684Z"
    }
   },
   "outputs": [],
   "source": [
    "### Sentiment Analysis"
   ]
  },
  {
   "cell_type": "code",
   "execution_count": null,
   "id": "978394ee",
   "metadata": {},
   "outputs": [],
   "source": []
  },
  {
   "cell_type": "code",
   "execution_count": 33,
   "id": "4d43af25",
   "metadata": {},
   "outputs": [
    {
     "data": {
      "text/plain": [
       "(30, 60, 1)"
      ]
     },
     "execution_count": 33,
     "metadata": {},
     "output_type": "execute_result"
    }
   ],
   "source": [
    "test_arr = []\n",
    "for i in range(30):\n",
    "    tmp = []\n",
    "    for k in range(60):\n",
    "        tmp.append(60)\n",
    "    test_arr.append(tmp)\n",
    "\n",
    "test_arr = np.reshape(test_arr,(30, 60, 1))\n",
    "test_arr.shape"
   ]
  },
  {
   "cell_type": "code",
   "execution_count": 34,
   "id": "052a9145",
   "metadata": {},
   "outputs": [
    {
     "name": "stdout",
     "output_type": "stream",
     "text": [
      "1/1 [==============================] - 1s 1s/step\n"
     ]
    },
    {
     "data": {
      "text/plain": [
       "array([[2.6933362],\n",
       "       [2.6933362],\n",
       "       [2.6933362],\n",
       "       [2.6933362],\n",
       "       [2.6933362],\n",
       "       [2.6933362],\n",
       "       [2.6933362],\n",
       "       [2.6933362],\n",
       "       [2.6933362],\n",
       "       [2.6933362],\n",
       "       [2.6933362],\n",
       "       [2.6933362],\n",
       "       [2.6933362],\n",
       "       [2.6933362],\n",
       "       [2.6933362],\n",
       "       [2.6933362],\n",
       "       [2.6933362],\n",
       "       [2.6933362],\n",
       "       [2.6933362],\n",
       "       [2.6933362],\n",
       "       [2.6933362],\n",
       "       [2.6933362],\n",
       "       [2.6933362],\n",
       "       [2.6933362],\n",
       "       [2.6933362],\n",
       "       [2.6933362],\n",
       "       [2.6933362],\n",
       "       [2.6933362],\n",
       "       [2.6933362],\n",
       "       [2.6933362]], dtype=float32)"
      ]
     },
     "execution_count": 34,
     "metadata": {},
     "output_type": "execute_result"
    }
   ],
   "source": [
    "model.predict(test_arr)"
   ]
  },
  {
   "cell_type": "code",
   "execution_count": 36,
   "id": "06bd0373",
   "metadata": {},
   "outputs": [],
   "source": [
    "save_model(model=model, dir=\"./model\")"
   ]
  },
  {
   "cell_type": "code",
   "execution_count": null,
   "id": "0f1c7c5b",
   "metadata": {},
   "outputs": [],
   "source": []
  }
 ],
 "metadata": {
  "kernelspec": {
   "display_name": "Python 3 (ipykernel)",
   "language": "python",
   "name": "python3"
  },
  "language_info": {
   "codemirror_mode": {
    "name": "ipython",
    "version": 3
   },
   "file_extension": ".py",
   "mimetype": "text/x-python",
   "name": "python",
   "nbconvert_exporter": "python",
   "pygments_lexer": "ipython3",
   "version": "3.9.18"
  },
  "toc": {
   "base_numbering": 1,
   "nav_menu": {},
   "number_sections": true,
   "sideBar": true,
   "skip_h1_title": false,
   "title_cell": "Table of Contents",
   "title_sidebar": "Contents",
   "toc_cell": false,
   "toc_position": {},
   "toc_section_display": true,
   "toc_window_display": false
  }
 },
 "nbformat": 4,
 "nbformat_minor": 5
}
