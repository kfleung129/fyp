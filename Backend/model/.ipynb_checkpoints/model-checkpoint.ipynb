{
 "cells": [
  {
   "cell_type": "code",
   "execution_count": 1,
   "id": "6df0330f",
   "metadata": {
    "scrolled": false
   },
   "outputs": [],
   "source": [
    "#environment settings\n",
    "#!pip install tensorflow keras"
   ]
  },
  {
   "cell_type": "code",
   "execution_count": 2,
   "id": "latin-character",
   "metadata": {
    "ExecuteTime": {
     "end_time": "2023-09-21T11:20:54.389829Z",
     "start_time": "2023-09-21T11:20:49.722013Z"
    }
   },
   "outputs": [],
   "source": [
    "import os\n",
    "import math\n",
    "import matplotlib.pyplot as plt\n",
    "import pandas as pd\n",
    "import numpy as np\n",
    "import yfinance as yf\n",
    "from keras.models import Sequential\n",
    "from keras.layers import Dense\n",
    "from keras.layers import LSTM\n",
    "from keras.layers import Dropout\n",
    "from keras.layers import Input\n",
    "from keras.layers import *\n",
    "from sklearn.preprocessing import MinMaxScaler\n",
    "from sklearn.metrics import mean_squared_error\n",
    "from sklearn.metrics import mean_absolute_error\n",
    "from sklearn.model_selection import train_test_split\n",
    "from keras.callbacks import EarlyStopping\n",
    "import tensorflow as tf\n",
    "import tensorflowjs as tfjs\n",
    "import graphviz\n",
    "import pydot\n",
    "from tensorflow.keras.utils import plot_model"
   ]
  },
  {
   "cell_type": "code",
   "execution_count": 3,
   "id": "b89d9dbf",
   "metadata": {
    "ExecuteTime": {
     "end_time": "2023-09-21T11:20:55.470863Z",
     "start_time": "2023-09-21T11:20:55.454165Z"
    }
   },
   "outputs": [],
   "source": [
    "#global variables\n",
    "stock_name = \"AAPL\"\n",
    "stock_name_list = [\"MSFT\", \"TSLA\"]\n",
    "start_year = 2002\n",
    "end_year = 2024\n",
    "day_before = 60\n",
    "predict_day = 120\n",
    "start_index = 0\n",
    "sc = MinMaxScaler(feature_range=(0,1))"
   ]
  },
  {
   "cell_type": "code",
   "execution_count": 4,
   "id": "aea92246",
   "metadata": {
    "ExecuteTime": {
     "end_time": "2023-09-21T11:20:55.451994Z",
     "start_time": "2023-09-21T11:20:55.438161Z"
    }
   },
   "outputs": [],
   "source": [
    "#common functions\n",
    "def load_dataframe(**kwargs):\n",
    "    stock_name = kwargs[\"stock_name\"]\n",
    "    start_year = kwargs[\"start_year\"]\n",
    "    end_year = kwargs[\"end_year\"]\n",
    "    df = yf.download(stock_name, start=f'{start_year}-01-01', end=f'{end_year}-01-01')\n",
    "    #df = pd.read_csv(f'./stocks/{name}.csv') # Default load local csv file\n",
    "    return df\n",
    "    \n",
    "def get_X_train(**kwargs):\n",
    "    df = kwargs['df']\n",
    "    start_index = kwargs['start_index']\n",
    "    day_before = kwargs[\"day_before\"]\n",
    "    end_index = len(df)\n",
    "    X_train = df.iloc[start_index:end_index, 0:1].values #open price\n",
    "    X_train = sc.fit_transform(X_train)\n",
    "    X_train = [X_train[i-day_before:i, 0] for i in range(day_before, len(X_train))]\n",
    "    X_train = np.array(X_train)\n",
    "    X_train = np.reshape(X_train, (X_train.shape[0], X_train.shape[1], 1))\n",
    "    return X_train\n",
    "\n",
    "def get_X_test(**kwargs):\n",
    "    df = kwargs['df']\n",
    "    start_index = kwargs['start_index']\n",
    "    day_before = kwargs[\"day_before\"]\n",
    "    end_index = len(df)\n",
    "    start_index = start_index - day_before\n",
    "    X_test = df.iloc[start_index:end_index, 0:1].values #open price\n",
    "    X_test = sc.fit_transform(X_test)\n",
    "    X_test = [X_test[i-day_before:i, 0] for i in range(day_before, len(X_test))]\n",
    "    X_test = np.array(X_test)\n",
    "    X_test = np.reshape(X_test, (X_test.shape[0], X_test.shape[1], 1))\n",
    "    return X_test\n",
    "\n",
    "def get_y_train(**kwargs):\n",
    "    df = kwargs['df']\n",
    "    start_index = kwargs['start_index']\n",
    "    day_before = kwargs['day_before']\n",
    "    end_index = len(df)\n",
    "    y_train = df.iloc[start_index:end_index, 3:4].values #close price\n",
    "    y_train = sc.fit_transform(y_train)[0+day_before:end_index]\n",
    "    return y_train\n",
    "\n",
    "def get_y_test(**kwargs):\n",
    "    df = kwargs['df']\n",
    "    start_index = kwargs['start_index']\n",
    "    day_before = kwargs['day_before']\n",
    "    end_index = len(df)\n",
    "    y_test = df.iloc[start_index:end_index, 3:4].values #close price\n",
    "    return y_test\n",
    "\n",
    "def save_model(**kwargs):\n",
    "    model = kwargs[\"model\"]\n",
    "    _dir = kwargs[\"_dir\"]\n",
    "    tfjs.converters.save_keras_model(model, _dir)    "
   ]
  },
  {
   "cell_type": "code",
   "execution_count": null,
   "id": "6ed09946",
   "metadata": {},
   "outputs": [],
   "source": [
    "def get_model(**kwargs):\n",
    "    X_train = kwargs['X_train']\n",
    "    y_train = kwargs['y_train']\n",
    "    #numpy version require 1.19.5 \n",
    "    #!pip install numpy==1.19.5\n",
    "    model = Sequential()\n",
    "    #Adding the first LSTM layer and some Dropout regularisation\n",
    "    model.add(LSTM(units = 50, return_sequences = True, input_shape = (X_train.shape[1], 1)))\n",
    "    model.add(Dropout(0.2))\n",
    "    # Adding a second LSTM layer and some Dropout regularisation\n",
    "    model.add(LSTM(units = 50, return_sequences = True))\n",
    "    model.add(Dropout(0.2))\n",
    "    # Adding a third LSTM layer and some Dropout regularisation\n",
    "    model.add(LSTM(units = 50, return_sequences = True))\n",
    "    model.add(Dropout(0.2))\n",
    "    # Adding a fourth LSTM layer and some Dropout regularisation\n",
    "    model.add(LSTM(units = 50))\n",
    "    model.add(Dropout(0.2))\n",
    "    # Adding the output layer\n",
    "    model.add(Dense(units = 1))\n",
    "    # Compiling the RNN\n",
    "    model.compile(optimizer = 'adam', loss = 'mean_squared_error')\n",
    "    # Fitting the RNN to the Training set\n",
    "    model.fit(X_train, y_train, epochs = 100, batch_size = 32, use_multiprocessing=True, verbose=0)\n",
    "    return model\n",
    "\n",
    "def train_stock_prediction_model(**kwargs):\n",
    "    #arguments\n",
    "    stock_name = kwargs['stock_name']\n",
    "    start_year = kwargs['start_year']\n",
    "    end_year = kwargs['end_year']\n",
    "    #logging\n",
    "    print(f\"Training {stock_name} stock prediction model\")\n",
    "    #load stock historical price data of certain stock code through yahoo finance library\n",
    "    df = load_dataframe(stock_name=stock_name, start_year=start_year, end_year=end_year)\n",
    "    #datafram size\n",
    "    df_size = len(df)\n",
    "    #split up training set\n",
    "    X_train = get_X_train(df=df, start_index=start_index, day_before=day_before)\n",
    "    y_train = get_y_train(df=df, start_index=start_index, day_before=day_before)\n",
    "    #split up testing set\n",
    "    X_test = get_X_test(df=df, start_index=df_size-predict_day, day_before=predict_day)\n",
    "    y_test = get_y_test(df=df, start_index=df_size-predict_day, end_index=df_size, day_before=0)\n",
    "    #train model\n",
    "    model = get_model(X_train=X_train, y_train=y_train)\n",
    "    print(f\"{stock_name} stock prediction model is trained\")\n",
    "    #saving the model\n",
    "    save_model(model=model, _dir=f\"./model/{stock_name}\")\n",
    "    #return model if necessary for temporary debug\n",
    "    return model\n",
    "\n",
    "def train_set_of_stock_prediction_model(**kwargs):\n",
    "    stock_name_list = kwargs['stock_name_list']\n",
    "    start_year = kwargs['start_year']\n",
    "    end_year = kwargs['end_year']\n",
    "    model_list = []\n",
    "    #iterate to train different stock prediction models\n",
    "    for stock_name in stock_name_list:\n",
    "        model_list.append(train_stock_prediction_model(stock_name=stock_name, start_year=start_year, end_year=end_year))\n",
    "    return model_list\n",
    "        \n",
    "def plot_result(**kwargs):\n",
    "    model = kwargs['model']\n",
    "    X_test = kwargs['X_test']\n",
    "    y_test = kwargs['y_test']\n",
    "    stock_name = kwargs['stock_name']\n",
    "    predict_day = kwargs['predict_day']\n",
    "    df_size = kwargs['df_size']\n",
    "    #Predicted stock price\n",
    "    predicted_stock_price = model.predict(X_test)\n",
    "    predicted_stock_price = sc.inverse_transform(predicted_stock_price)\n",
    "    #print(predicted_stock_price.shape)\n",
    "    #Real stock price\n",
    "    real_stock_price = y_test\n",
    "    #print(real_stock_price.shape)\n",
    "    # Visualising the results\n",
    "    plt.figure(figsize=(16,6))\n",
    "    plt.plot(df.index.values[df_size-predict_day:df_size], real_stock_price, color = \"red\", label = f'Real {stock_name} Stock Price')\n",
    "    plt.plot(df.index.values[df_size-predict_day:df_size], predicted_stock_price, color = \"blue\", label = f'Predicted {stock_name} Stock Price')\n",
    "    plt.title(f'{stock_name} Stock Price Prediction')\n",
    "    plt.xlabel('Time')\n",
    "    plt.ylabel(f'{stock_name} Stock Price')\n",
    "    plt.legend()\n",
    "    plt.show()\n",
    "    \n",
    "def load_model(**kwargs):\n",
    "    return\n",
    "\n",
    "def print_model_summary(**kwargs):\n",
    "    model = kwargs['model']\n",
    "    print(model.summary())\n",
    "    tf.keras.utils.plot_model(model, to_file='model.png', show_shapes=True, dpi=80,show_layer_names=True)"
   ]
  },
  {
   "cell_type": "code",
   "execution_count": null,
   "id": "3766576f",
   "metadata": {},
   "outputs": [
    {
     "name": "stdout",
     "output_type": "stream",
     "text": [
      "Training MSFT stock prediction model\n",
      "[*********************100%%**********************]  1 of 1 completed\n"
     ]
    }
   ],
   "source": [
    "train_set_of_stock_prediction_model(stock_name_list=stock_name_list, start_year=start_year, end_year=end_year)"
   ]
  },
  {
   "cell_type": "code",
   "execution_count": null,
   "id": "63d393af",
   "metadata": {},
   "outputs": [],
   "source": []
  }
 ],
 "metadata": {
  "kernelspec": {
   "display_name": "Python 3 (ipykernel)",
   "language": "python",
   "name": "python3"
  },
  "language_info": {
   "codemirror_mode": {
    "name": "ipython",
    "version": 3
   },
   "file_extension": ".py",
   "mimetype": "text/x-python",
   "name": "python",
   "nbconvert_exporter": "python",
   "pygments_lexer": "ipython3",
   "version": "3.9.18"
  },
  "toc": {
   "base_numbering": 1,
   "nav_menu": {},
   "number_sections": true,
   "sideBar": true,
   "skip_h1_title": false,
   "title_cell": "Table of Contents",
   "title_sidebar": "Contents",
   "toc_cell": false,
   "toc_position": {},
   "toc_section_display": true,
   "toc_window_display": false
  }
 },
 "nbformat": 4,
 "nbformat_minor": 5
}
